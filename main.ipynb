{
  "nbformat": 4,
  "nbformat_minor": 0,
  "metadata": {
    "colab": {
      "provenance": [],
      "collapsed_sections": []
    },
    "kernelspec": {
      "name": "python3",
      "display_name": "Python 3"
    },
    "language_info": {
      "name": "python"
    }
  },
  "cells": [
    {
      "cell_type": "code",
      "execution_count": null,
      "metadata": {
        "id": "IlRXM0Byjgfh"
      },
      "outputs": [],
      "source": [
        "import time\n",
        "import fuzzylogic     \n",
        " \n",
        "\n",
        "def control_fan():\n",
        "    global pwm\n",
        "\n",
        "    temp = int(input(\"enter the temperature : \"))\n",
        "\n",
        "    hum = int(input(\"enter the humidity : \"))\n",
        "\n",
        "    presence = int(input(\"enter the presence value : \"))\n",
        "\n",
        "    fuzzylogic.init(temp, hum, presence)\n",
        "\n",
        "\n",
        "    pwm = fuzzylogic.crisp_output()\n",
        "\n",
        "    print('Fan value pwm: ', pwm)      "
      ]
    }
  ]
}
